{
 "cells": [
  {
   "cell_type": "code",
   "execution_count": null,
   "id": "814b2783",
   "metadata": {
    "vscode": {
     "languageId": "plaintext"
    }
   },
   "outputs": [],
   "source": [
    "import numpy as np\n",
    "import matplotlib.pyplot as plt\n",
    "from scipy.signal import find_peaks\n",
    "from scipy.optimize import curve_fit\n",
    "\n",
    "# Завантаження данних\n",
    "observations = np.loadtxt('f15.txt')\n",
    "\n",
    "T = 5\n",
    "N = len(observations)\n",
    "dt = 0.01\n",
    "t = np.arange(0, N*dt, dt)\n",
    "\n",
    "# 1. Дискретне перетворення Фур'є\n",
    "f_transform = np.fft.fft(observations) / N\n",
    "frequencies = np.fft.fftfreq(N, dt)\n",
    "\n",
    "# Модуль перетворення Фур'є\n",
    "f_magnitude = np.abs(f_transform)\n",
    "\n",
    "# Локальні максимуми\n",
    "peaks, _ = find_peaks(f_magnitude[:N // 2])\n",
    "peak_frequencies = frequencies[peaks]\n",
    "\n",
    "print(\"Суттєві частоти:\", peak_frequencies)\n",
    "\n",
    "# 2. Побудова графіку модуля перетворення Фур’є\n",
    "plt.figure()\n",
    "plt.plot(frequencies[:N // 2], f_magnitude[:N // 2])\n",
    "plt.scatter(peak_frequencies, f_magnitude[peaks], color='red')\n",
    "plt.xlabel('Частота')\n",
    "plt.ylabel('Модуль перетворення Фур’є')\n",
    "plt.title('Спектр дискретного перетворення Фур’є')\n",
    "plt.show()\n",
    "\n",
    "# 3. Метод найменших квадратів\n",
    "def model(t, a1, a2, a3, *params):\n",
    "    k = len(params) // 2\n",
    "    y = a1 * t**3 + a2 * t**2 + a3 * t\n",
    "    for i in range(k):\n",
    "        fi = params[i]\n",
    "        ai = params[k + i]\n",
    "        y += ai * np.sin(2 * np.pi * fi * t - 3 * t)\n",
    "    return y\n",
    "\n",
    "# Ініціалізація параметрів\n",
    "initial_guess = [1, 1, 1] + [1] * (len(peak_frequencies) * 2)\n",
    "\n",
    "# 4. Підбір параметрів за методом найменших квадратів\n",
    "params, covariance = curve_fit(model, t, observations, p0=initial_guess)\n",
    "\n",
    "print(\"Знайдені параметри:\", params)\n",
    "\n",
    "# 5. Обчислення значень за моделлю\n",
    "fitted_values = model(t, *params)\n",
    "\n",
    "plt.figure()\n",
    "plt.plot(t, observations, label='Спостереження')\n",
    "plt.plot(t, fitted_values, label='Модель', linestyle='--')\n",
    "plt.xlabel('Час')\n",
    "plt.ylabel('y(t)')\n",
    "plt.legend()\n",
    "plt.title('Порівняння спостережень та моделі')\n",
    "plt.show()"
   ]
  }
 ],
 "metadata": {
  "language_info": {
   "name": "python"
  }
 },
 "nbformat": 4,
 "nbformat_minor": 5
}
